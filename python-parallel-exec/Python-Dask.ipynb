{
 "cells": [
  {
   "cell_type": "markdown",
   "metadata": {},
   "source": [
    "# Python - implementing parallelization with Dask"
   ]
  },
  {
   "cell_type": "markdown",
   "metadata": {},
   "source": [
    "### [Why Dask?](https://docs.dask.org/en/latest/why.html)"
   ]
  },
  {
   "cell_type": "code",
   "execution_count": 1,
   "metadata": {},
   "outputs": [],
   "source": [
    "import time\n",
    "import requests\n",
    "from dask import delayed, compute"
   ]
  },
  {
   "cell_type": "code",
   "execution_count": 7,
   "metadata": {},
   "outputs": [],
   "source": [
    "# Lets have a set of urls to fetch\n",
    "URLS = [\n",
    "    'https://jsonplaceholder.typicode.com/posts',\n",
    "    'https://jsonplaceholder.typicode.com/comments',\n",
    "    'https://jsonplaceholder.typicode.com/albums',\n",
    "    'https://jsonplaceholder.typicode.com/photos',\n",
    "    'https://jsonplaceholder.typicode.com/todos',\n",
    "    'https://jsonplaceholder.typicode.com/users'\n",
    "]"
   ]
  },
  {
   "cell_type": "code",
   "execution_count": 4,
   "metadata": {},
   "outputs": [],
   "source": [
    "def fetch_single(url: str) -> None:\n",
    "    print(f'Fetching: {url}...')\n",
    "    req = requests.get(url)\n",
    "    time.sleep(1)\n",
    "    print(f'Fetched {url}!')\n",
    "    return req.content"
   ]
  },
  {
   "cell_type": "markdown",
   "metadata": {},
   "source": [
    "### Fetching URLS in Regular/sequential way"
   ]
  },
  {
   "cell_type": "code",
   "execution_count": 5,
   "metadata": {},
   "outputs": [
    {
     "name": "stdout",
     "output_type": "stream",
     "text": [
      "Fetching: https://jsonplaceholder.typicode.com/posts...\n",
      "Fetched https://jsonplaceholder.typicode.com/posts!\n",
      "Fetching: https://jsonplaceholder.typicode.com/comments...\n",
      "Fetched https://jsonplaceholder.typicode.com/comments!\n",
      "Fetching: https://jsonplaceholder.typicode.com/albums...\n",
      "Fetched https://jsonplaceholder.typicode.com/albums!\n",
      "Fetching: https://jsonplaceholder.typicode.com/photos...\n",
      "Fetched https://jsonplaceholder.typicode.com/photos!\n",
      "Fetching: https://jsonplaceholder.typicode.com/todos...\n",
      "Fetched https://jsonplaceholder.typicode.com/todos!\n",
      "Fetching: https://jsonplaceholder.typicode.com/users...\n",
      "Fetched https://jsonplaceholder.typicode.com/users!\n",
      "Wall time: 14.6 s\n"
     ]
    }
   ],
   "source": [
    "%%time   # <- Magic command to print exec time\n",
    "\n",
    "fetch_normal = []\n",
    "\n",
    "for url in URLS:\n",
    "    single = fetch_single(url)\n",
    "    fetch_normal.append(single)"
   ]
  },
  {
   "cell_type": "markdown",
   "metadata": {},
   "source": [
    "### Fetch URL's with dask "
   ]
  },
  {
   "cell_type": "markdown",
   "metadata": {},
   "source": [
    "- wrap our `fetch_single` function with a `delayed` decorator\n",
    "- Once outside the loop, we also have to call the `compute` function from Dask on every item in the `fetch_dask` array, since calling `delayed` doesn’t do the computation."
   ]
  },
  {
   "cell_type": "code",
   "execution_count": 6,
   "metadata": {},
   "outputs": [
    {
     "name": "stdout",
     "output_type": "stream",
     "text": [
      "Fetching: https://jsonplaceholder.typicode.com/albums...\n",
      "Fetching: https://jsonplaceholder.typicode.com/todos...\n",
      "Fetching: https://jsonplaceholder.typicode.com/photos...\n",
      "Fetching: https://jsonplaceholder.typicode.com/posts...\n",
      "Fetching: https://jsonplaceholder.typicode.com/users...\n",
      "Fetching: https://jsonplaceholder.typicode.com/comments...\n",
      "Fetched https://jsonplaceholder.typicode.com/comments!Fetched https://jsonplaceholder.typicode.com/users!\n",
      "\n",
      "Fetched https://jsonplaceholder.typicode.com/albums!\n",
      "Fetched https://jsonplaceholder.typicode.com/posts!\n",
      "Fetched https://jsonplaceholder.typicode.com/todos!\n",
      "Fetched https://jsonplaceholder.typicode.com/photos!\n",
      "Wall time: 2.23 s\n"
     ]
    }
   ],
   "source": [
    "%%time\n",
    "\n",
    "fetch_dask = []\n",
    "\n",
    "for url in URLS:\n",
    "    single = delayed(fetch_single)(url)\n",
    "    fetch_dask.append(single)\n",
    "    \n",
    "results_dask = compute(*fetch_dask)"
   ]
  },
  {
   "cell_type": "code",
   "execution_count": null,
   "metadata": {},
   "outputs": [],
   "source": []
  }
 ],
 "metadata": {
  "kernelspec": {
   "display_name": "Python 3",
   "language": "python",
   "name": "python3"
  },
  "language_info": {
   "codemirror_mode": {
    "name": "ipython",
    "version": 3
   },
   "file_extension": ".py",
   "mimetype": "text/x-python",
   "name": "python",
   "nbconvert_exporter": "python",
   "pygments_lexer": "ipython3",
   "version": "3.8.5"
  }
 },
 "nbformat": 4,
 "nbformat_minor": 4
}
