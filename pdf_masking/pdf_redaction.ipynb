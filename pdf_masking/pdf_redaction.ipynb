{
  "nbformat": 4,
  "nbformat_minor": 0,
  "metadata": {
    "colab": {
      "provenance": []
    },
    "kernelspec": {
      "name": "python3",
      "display_name": "Python 3"
    },
    "language_info": {
      "name": "python"
    }
  },
  "cells": [
    {
      "cell_type": "markdown",
      "source": [
        "# Find and replace the given text in the PDF file\n",
        "\n",
        "- Used PyMuPDF because it supports element level coordinates"
      ],
      "metadata": {
        "id": "IdMR_5SKTz0Z"
      }
    },
    {
      "cell_type": "code",
      "source": [
        "!pip install PyMuPDF"
      ],
      "metadata": {
        "colab": {
          "base_uri": "https://localhost:8080/"
        },
        "id": "hKywzGtuLBI9",
        "outputId": "9d6a827e-1e1e-4a5c-93be-278135cecebf"
      },
      "execution_count": null,
      "outputs": [
        {
          "output_type": "stream",
          "name": "stdout",
          "text": [
            "Collecting PyMuPDF\n",
            "  Downloading PyMuPDF-1.24.9-cp310-none-manylinux2014_x86_64.whl.metadata (3.4 kB)\n",
            "Collecting PyMuPDFb==1.24.9 (from PyMuPDF)\n",
            "  Downloading PyMuPDFb-1.24.9-py3-none-manylinux2014_x86_64.manylinux_2_17_x86_64.whl.metadata (1.4 kB)\n",
            "Downloading PyMuPDF-1.24.9-cp310-none-manylinux2014_x86_64.whl (3.5 MB)\n",
            "\u001b[2K   \u001b[90m━━━━━━━━━━━━━━━━━━━━━━━━━━━━━━━━━━━━━━━━\u001b[0m \u001b[32m3.5/3.5 MB\u001b[0m \u001b[31m9.5 MB/s\u001b[0m eta \u001b[36m0:00:00\u001b[0m\n",
            "\u001b[?25hDownloading PyMuPDFb-1.24.9-py3-none-manylinux2014_x86_64.manylinux_2_17_x86_64.whl (15.9 MB)\n",
            "\u001b[2K   \u001b[90m━━━━━━━━━━━━━━━━━━━━━━━━━━━━━━━━━━━━━━━━\u001b[0m \u001b[32m15.9/15.9 MB\u001b[0m \u001b[31m22.7 MB/s\u001b[0m eta \u001b[36m0:00:00\u001b[0m\n",
            "\u001b[?25hInstalling collected packages: PyMuPDFb, PyMuPDF\n",
            "Successfully installed PyMuPDF-1.24.9 PyMuPDFb-1.24.9\n"
          ]
        }
      ]
    },
    {
      "cell_type": "code",
      "execution_count": null,
      "metadata": {
        "colab": {
          "base_uri": "https://localhost:8080/"
        },
        "id": "EpjycSxjKt77",
        "outputId": "3178989a-54bb-432c-c1c4-61a9f0906c96"
      },
      "outputs": [
        {
          "output_type": "stream",
          "name": "stdout",
          "text": [
            "Text 'research paper' found at:\n",
            "Page 1, Coordinates: Rect(85.10399627685547, 70.81623077392578, 286.26788330078125, 98.8174819946289)\n"
          ]
        }
      ],
      "source": [
        "import fitz  # PyMuPDF\n",
        "\n",
        "def find_text_in_pdf(pdf_path, search_text):\n",
        "    # Open the PDF file\n",
        "    pdf_document = fitz.open(pdf_path)\n",
        "    results = []\n",
        "\n",
        "    # Iterate through the pages\n",
        "    for page_num in range(len(pdf_document)):\n",
        "        page = pdf_document.load_page(page_num)\n",
        "        text_instances = page.search_for(search_text)\n",
        "\n",
        "        # If the text is found, store the result with page number and rectangle coordinates\n",
        "        for instance in text_instances:\n",
        "            results.append({\n",
        "                \"page\": page_num + 1,\n",
        "                \"coordinates\": instance\n",
        "            })\n",
        "\n",
        "    pdf_document.close()\n",
        "\n",
        "    return results\n",
        "\n",
        "# Example usage\n",
        "pdf_path = \"/content/pdf_files/in/research_paper.pdf\"\n",
        "search_text = \"research paper\"\n",
        "locations = find_text_in_pdf(pdf_path, search_text)\n",
        "\n",
        "if locations:\n",
        "    print(f\"Text '{search_text}' found at:\")\n",
        "    for location in locations:\n",
        "        print(f\"Page {location['page']}, Coordinates: {location['coordinates']}\")\n",
        "else:\n",
        "    print(f\"Text '{search_text}' not found in the PDF.\")\n"
      ]
    },
    {
      "cell_type": "code",
      "source": [
        "import fitz  # PyMuPDF\n",
        "\n",
        "def int_to_rgb(color_int):\n",
        "    # Convert an integer color to RGB format (tuple of floats in range 0-1)\n",
        "    r = (color_int >> 16) & 255\n",
        "    g = (color_int >> 8) & 255\n",
        "    b = color_int & 255\n",
        "    return (r / 255.0, g / 255.0, b / 255.0)\n",
        "\n",
        "def replace_text_with_x_in_pdf(input_pdf_path, output_pdf_path, search_text):\n",
        "    # Open the PDF file\n",
        "    pdf_document = fitz.open(input_pdf_path)\n",
        "\n",
        "    is_modified = False\n",
        "\n",
        "    # Iterate through the pages\n",
        "    for page_num in range(len(pdf_document)):\n",
        "        page = pdf_document.load_page(page_num)\n",
        "        text_instances = page.search_for(search_text)\n",
        "\n",
        "        if not text_instances:\n",
        "            print(f\"Text '{search_text}' not found on page {page_num + 1}. Skipping...\")\n",
        "            continue\n",
        "\n",
        "        # If the text is found, replace each character with 'X', keeping original styling\n",
        "        for instance in text_instances:\n",
        "            # Extract text within the bounding box\n",
        "            words = page.get_text(\"words\", clip=instance)\n",
        "            for word in words:\n",
        "                word_rect = fitz.Rect(word[:4])\n",
        "                original_text = word[4]\n",
        "                replacement_text = 'X' * len(original_text)\n",
        "\n",
        "                # Get original font size and color by using the first character\n",
        "                spans = page.get_text(\"dict\", clip=word_rect)[\"blocks\"][0][\"lines\"][0][\"spans\"]\n",
        "                font_size = spans[0][\"size\"]\n",
        "                color_int = spans[0][\"color\"]\n",
        "\n",
        "                # Convert the integer color value to RGB format\n",
        "                rgb_color = int_to_rgb(color_int)\n",
        "\n",
        "                # Draw a white rectangle to cover the original text\n",
        "                page.draw_rect(word_rect, color=(1, 1, 1), fill=(1, 1, 1), fill_opacity=1)\n",
        "\n",
        "                # Ensure the replacement text is placed correctly\n",
        "                page.insert_text(word_rect.tl, replacement_text, fontsize=font_size, color=rgb_color)\n",
        "\n",
        "            is_modified = True\n",
        "\n",
        "    if not is_modified:\n",
        "        print(f\"No occurrences of '{search_text}' found in the PDF.\")\n",
        "        return\n",
        "\n",
        "    # Save the modified PDF to a new file\n",
        "    print(f\"Replaced '{search_text}' with 'X' and saved to '{output_pdf_path}'.\")\n",
        "    pdf_document.save(output_pdf_path)\n",
        "    pdf_document.close()\n",
        "\n",
        "# Example usage\n",
        "input_pdf_path = \"/content/pdf_files/in/research_paper.pdf\"\n",
        "output_pdf_path = \"/content/pdf_files/out/research_paper_v4.pdf\"\n",
        "search_text = \"research paper\"\n",
        "\n",
        "replace_text_with_x_in_pdf(input_pdf_path, output_pdf_path, search_text)\n"
      ],
      "metadata": {
        "colab": {
          "base_uri": "https://localhost:8080/"
        },
        "id": "wqZV9TuHMRNc",
        "outputId": "7d78decd-343f-4f65-97a3-5736f614fcd9"
      },
      "execution_count": null,
      "outputs": [
        {
          "output_type": "stream",
          "name": "stdout",
          "text": [
            "Text 'research paper' not found on page 2. Skipping...\n",
            "Text 'research paper' not found on page 3. Skipping...\n",
            "Text 'research paper' not found on page 4. Skipping...\n",
            "Text 'research paper' not found on page 5. Skipping...\n",
            "Text 'research paper' not found on page 6. Skipping...\n",
            "Text 'research paper' not found on page 7. Skipping...\n",
            "Text 'research paper' not found on page 8. Skipping...\n",
            "Text 'research paper' not found on page 9. Skipping...\n",
            "Text 'research paper' not found on page 10. Skipping...\n",
            "Text 'research paper' not found on page 11. Skipping...\n",
            "Replaced 'research paper' with 'X' and saved to '/content/pdf_files/out/research_paper_v4.pdf'.\n"
          ]
        }
      ]
    },
    {
      "cell_type": "code",
      "source": [],
      "metadata": {
        "id": "l-o6R84SSvg4"
      },
      "execution_count": null,
      "outputs": []
    }
  ]
}